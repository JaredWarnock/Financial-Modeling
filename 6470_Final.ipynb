{
 "cells": [
  {
   "cell_type": "code",
   "execution_count": 225,
   "metadata": {},
   "outputs": [],
   "source": [
    "from math import log, sqrt, pi, exp\n",
    "from scipy.stats import norm\n",
    "from datetime import datetime, date\n",
    "import numpy as np\n",
    "import pandas as pd\n",
    "from pandas import DataFrame\n",
    "import numpy as np\n",
    "import pandas as pd\n",
    "import matplotlib.pyplot as plt\n",
    "from scipy import stats\n",
    "import enum\n"
   ]
  },
  {
   "cell_type": "markdown",
   "metadata": {},
   "source": [
    "<br>\n",
    "\n",
    "### Question 1\n",
    "\n",
    "<br>"
   ]
  },
  {
   "cell_type": "code",
   "execution_count": 226,
   "metadata": {},
   "outputs": [],
   "source": [
    "### code from Chapter12.ipynb\n",
    "\n",
    "def bsmCall(S, K, v, r, t, q):\n",
    "    d1 = ((np.log(S/K) + (r - q + 0.5 * v * v)*t) / (v * np.sqrt(t)))\n",
    "    d2 = d1 - v * np.sqrt(t)\n",
    "    prc = S * np.exp(-q * t) * norm.cdf(d1) - K * np.exp(-r * t) * norm.cdf(d2)\n",
    "\n",
    "    return prc\n",
    "\n",
    "def bsmPut(S,K,v,r,t,q):\n",
    "    d1 = ((np.log(S/K) + (r - q + 0.5 * v * v)*t) / (v * np.sqrt(t)))\n",
    "    d2 = d1 - v * np.sqrt(t)\n",
    "    prc = K * np.exp(-r * t) * norm.cdf(-d2) - S * np.exp(-q * t) * norm.cdf(-d1)\n",
    "    \n",
    "    return prc"
   ]
  },
  {
   "cell_type": "markdown",
   "metadata": {},
   "source": [
    "<br>\n",
    "\n",
    "### Question 2\n",
    "\n",
    "<br>"
   ]
  },
  {
   "cell_type": "code",
   "execution_count": 284,
   "metadata": {},
   "outputs": [],
   "source": [
    "def bsmCallDelta(S, K, v, r, t, q):\n",
    "    d1 = ((np.log(S/K) + (r - q + 0.5 * v * v)*t) / (v * np.sqrt(t)))\n",
    "    delta = np.exp(-q * t) * norm.cdf(d1)\n",
    "    \n",
    "    return delta\n",
    "    \n",
    "\n",
    "\n",
    "def bsmPutDelta(S, K, v, r, t, q):\n",
    "    d1 = ((np.log(S/K) + (r - q + 0.5 * v * v)*t) / (v * np.sqrt(t)))\n",
    "    delta = np.exp(-q * t) * norm.cdf(-d1) \n",
    "    \n",
    "    return delta\n",
    "\n",
    "def bsmGamma(S, K, v, r, t, q):\n",
    "    d1 = ((np.log(S/K) + (r - q + 0.5 * v * v)*t) / (v * np.sqrt(t)))\n",
    "    gamma = (np.exp(-q * t) * norm.pdf(d1)) / (S * v * np.sqrt(t))\n",
    "    \n",
    "    return gamma\n",
    "\n",
    "### figure out why not working\n",
    "def bsmCallTheta(S, K, v, r, t, q):\n",
    "    d1 = ((np.log(S/K) + (r - q + 0.5 * v * v)*t) / (v * np.sqrt(t)))\n",
    "    d2 = d1 - v * np.sqrt(t)\n",
    "    theta = q * S * np.exp(-q * t) * norm.cdf(d1) - r * K * np.exp(-r * t) * norm.cdf(d2) - K * np.exp(-r * t) * norm.pdf(d2) * v / 2 * np.sqrt(t)\n",
    "    \n",
    "    return theta\n",
    "\n",
    "### figure out why not working\n",
    "def bsmPutTheta(S, K, v, r, t, q):\n",
    "    d1 = ((np.log(S/K) + (r - q + 0.5 * v * v)*t) / (v * np.sqrt(t)))\n",
    "    d2 = d1 - v * np.sqrt(t)\n",
    "    theta = (q * S * np.exp(-q * t) * norm.cdf(d1) - r * K * np.exp(-r * t) * norm.cdf(d2) - ((K * np.exp(-r * t) * norm.pdf(d2) * v) / (2 * np.sqrt(t)))) + (r * K * np.exp(-r * t) - q * S * np.exp(-q * t))\n",
    "    \n",
    "    return theta\n",
    "\n",
    "def bsmVega(S, K, v, r, t, q):\n",
    "    d1 = ((np.log(S/K) + (r - q + 0.5 * v * v)*t) / (v * np.sqrt(t)))\n",
    "    vega = S * (np.exp(-q * t) * norm.pdf(d1)) * (np.sqrt(t)) / 100\n",
    "    \n",
    "    return vega  \n",
    "    \n",
    "def bsmCallRho(S, K, v, r, t, q):\n",
    "    d1 = ((np.log(S/K) + (r - q + 0.5 * v * v)*t) / (v * np.sqrt(t)))\n",
    "    d2 = d1 - v * np.sqrt(t)\n",
    "    Rho = t * K * np.exp(-r * t) * norm.cdf(d2) / 100\n",
    "    \n",
    "    return Rho\n",
    "\n",
    "def bsmPutRho(S, K, v, r, t, q):\n",
    "    d1 = ((np.log(S/K) + (r - q + 0.5 * v * v)*t) / (v * np.sqrt(t)))\n",
    "    d2 = d1 - v * np.sqrt(t)\n",
    "    Rho = -t * K * np.exp(-r * t) * norm.cdf(d2) / 100\n",
    "    \n",
    "    return Rho\n",
    "\n",
    "def bsmCallPsi(S, K, v, r, t, q):\n",
    "    d1 = ((np.log(S/K) + (r - q + 0.5 * v * v)*t) / (v * np.sqrt(t)))\n",
    "    d2 = d1 - v * np.sqrt(t)\n",
    "    Rho = -t * S * np.exp(-q * t) * norm.cdf(d1)\n",
    "    \n",
    "    return Rho\n",
    "\n",
    "def bsmPutPsi(S, K, v, r, t, q):\n",
    "    d1 = ((np.log(S/K) + (r - q + 0.5 * v * v)*t) / (v * np.sqrt(t)))\n",
    "    d2 = d1 - v * np.sqrt(t)\n",
    "    Rho = t * S * np.exp(-q * t) * norm.cdf(d1)\n",
    "    \n",
    "    return Rho\n",
    "\n"
   ]
  },
  {
   "cell_type": "markdown",
   "metadata": {},
   "source": [
    "<br>\n",
    "\n",
    "### Question 3\n",
    "\n",
    "<br>"
   ]
  },
  {
   "cell_type": "code",
   "execution_count": 351,
   "metadata": {},
   "outputs": [
    {
     "name": "stdout",
     "output_type": "stream",
     "text": [
      "a.) The call price is $ 7.90, for a 1 year maturity. When T → ∞ the call price → 100\n"
     ]
    }
   ],
   "source": [
    "S = 100\n",
    "K = 120\n",
    "v = 0.30\n",
    "r = 0.08\n",
    "t = 1\n",
    "q = 0\n",
    "\n",
    "callPrc = bsmCall(S, K, v, r, t, q)\n",
    "print(f\"a.) The call price is ${callPrc : 0.2f}, for a 1 year maturity. When T → ∞ the call price → 100\")\n"
   ]
  },
  {
   "cell_type": "code",
   "execution_count": 354,
   "metadata": {},
   "outputs": [
    {
     "name": "stdout",
     "output_type": "stream",
     "text": [
      "b.) The call price is $ 7.85, when q = .001. When T → ∞ the call price → 0\n",
      "b.) the difference is accounted for by the rise in dividend yield, which decreases the value of the call because the counter party will recieve income before the strike date.\n"
     ]
    }
   ],
   "source": [
    "S = 100\n",
    "K = 120\n",
    "v = 0.30\n",
    "r = 0.08\n",
    "t = 1\n",
    "q = .001\n",
    "\n",
    "callPrc = bsmCall(S, K, v, r, t, q)\n",
    "print(f\"b.) The call price is ${callPrc : 0.2f}, when q = .001. When T → ∞ the call price → 0\")\n",
    "print(f\"b.) the difference is accounted for by the rise in dividend yield, which decreases the value of the call because the counter party will recieve income before the strike date.\")\n"
   ]
  },
  {
   "cell_type": "markdown",
   "metadata": {},
   "source": [
    "<br>\n",
    "\n",
    "### Question 4\n",
    "\n",
    "<br>"
   ]
  },
  {
   "cell_type": "code",
   "execution_count": 355,
   "metadata": {},
   "outputs": [
    {
     "name": "stdout",
     "output_type": "stream",
     "text": [
      "a.) The call price is $ 18.67, for a 1 year maturity. When T → ∞ the call price → 0\n"
     ]
    }
   ],
   "source": [
    "S = 120\n",
    "K = 100\n",
    "v = 0.30\n",
    "r = 0.0\n",
    "t = 1\n",
    "q = 0.08\n",
    "\n",
    "callPrc = bsmCall(S, K, v, r, t, q)\n",
    "print(f\"a.) The call price is ${callPrc : 0.2f}, for a 1 year maturity. When T → ∞ the call price → 0\")"
   ]
  },
  {
   "cell_type": "code",
   "execution_count": 356,
   "metadata": {},
   "outputs": [
    {
     "name": "stdout",
     "output_type": "stream",
     "text": [
      "b.) The call price is $ 19.19, when r = .001. The price increased due to the cost of the risk free rate.\n",
      "b.) .\n"
     ]
    }
   ],
   "source": [
    "S = 120\n",
    "K = 100\n",
    "v = 0.30\n",
    "r = 0.001\n",
    "t = .1\n",
    "q = 0.08\n",
    "\n",
    "callPrc = bsmCall(S, K, v, r, t, q)\n",
    "print(f\"b.) The call price is ${callPrc : 0.2f}, when r = .001. The price increased due to the cost of the risk free rate.\")"
   ]
  },
  {
   "cell_type": "markdown",
   "metadata": {},
   "source": [
    "<br>\n",
    "\n",
    "### Question 5\n",
    "\n",
    "<br>"
   ]
  },
  {
   "cell_type": "code",
   "execution_count": 249,
   "metadata": {},
   "outputs": [
    {
     "name": "stdout",
     "output_type": "stream",
     "text": [
      "a.) The call price is $ 14.39\n"
     ]
    }
   ],
   "source": [
    "S = 100\n",
    "K = 95\n",
    "v = 0.30\n",
    "r = 0.08\n",
    "t = .75\n",
    "q = 0.03\n",
    "\n",
    "callPrc = bsmCall(S, K, v, r, t, q)\n",
    "print(f\"a.) The call price is ${callPrc : 0.2f}\")"
   ]
  },
  {
   "cell_type": "code",
   "execution_count": 251,
   "metadata": {},
   "outputs": [
    {
     "name": "stdout",
     "output_type": "stream",
     "text": [
      "b.) The call price is $ 14.39, which is the same price as part a.) becuase the values of r and q were applied to S and K before entering them into the model, rather than entering the values of r and q into the model like was done in part a.).\n"
     ]
    }
   ],
   "source": [
    "S = 100*np.exp(-0.03*0.75)\n",
    "K = 95*np.exp(-0.08*0.75)\n",
    "v = 0.30\n",
    "r = 0.0\n",
    "t = .75\n",
    "q = 0.0\n",
    "\n",
    "callPrc = bsmCall(S, K, v, r, t, q)\n",
    "print(f\"b.) The call price is ${callPrc : 0.2f}, which is the same price as part a.) becuase the values of r and q were applied to S and K before entering them into the model, rather than entering the values of r and q into the model like was done in part a.).\")"
   ]
  },
  {
   "cell_type": "markdown",
   "metadata": {},
   "source": [
    "<br>\n",
    "\n",
    "### Question 6\n",
    "\n",
    "<br>"
   ]
  },
  {
   "cell_type": "code",
   "execution_count": 349,
   "metadata": {},
   "outputs": [],
   "source": [
    "e = .005\n",
    "S = 100\n",
    "K = 120\n",
    "v = 0.3\n",
    "r = 0.08\n",
    "t = 1\n",
    "q = 0.0\n",
    "\n"
   ]
  },
  {
   "cell_type": "code",
   "execution_count": 350,
   "metadata": {},
   "outputs": [
    {
     "name": "stdout",
     "output_type": "stream",
     "text": [
      "a.) This calculation takes the total price difference given a change in volatility, and divides by the total % change in volatility. In this case the result is the change in price per 1% change in volatility.  \n",
      "b.) Est_Vega is equal to  0.3917\n",
      "b.) Vega is equal to $ 0.3917\n",
      "Answers are the same using both methods.\n"
     ]
    }
   ],
   "source": [
    "print(f\"a.) This calculation takes the total price difference given a change in volatility, and divides by the total % change in volatility. In this case the result is the change in price per 1% change in volatility.  \")\n",
    "\n",
    "Vega = (bsmCall(S, K, v + e, r, t, q) - bsmCall(S, K, v - e, r, t, q))/(2*e)\n",
    "print(f\"b.) Est_Vega is equal to {Vega  / 100 : 0.4f}\")\n",
    "\n",
    "vega = bsmVega(S, K, v, r, t, q)\n",
    "print(f\"b.) Vega is equal to ${vega : 0.4f}\")\n",
    "print(\"Answers are the same using both methods.\")"
   ]
  },
  {
   "cell_type": "markdown",
   "metadata": {},
   "source": [
    "<br>\n",
    "\n",
    "### Question 7\n",
    "\n",
    "<br>"
   ]
  },
  {
   "cell_type": "code",
   "execution_count": 322,
   "metadata": {},
   "outputs": [
    {
     "name": "stdout",
     "output_type": "stream",
     "text": [
      "a.) Delta of bull spread is equal to  0.2187\n",
      "a.) Gamma of bull spread is equal to -0.0004\n",
      "a.) Vega of bull spread is equal to -0.0010\n",
      "a.) Theta is equal to -3.2590??????????????\n",
      "a.) Theta is equal to -2.7367????????????\n",
      "a.) Theta of bull spread is equal to -0.5224\n",
      "b.) Rho of bull spread is equal to  0.0336\n"
     ]
    }
   ],
   "source": [
    "S = 40\n",
    "K = 40\n",
    "K2 = 45\n",
    "v = 0.30\n",
    "r = 0.08\n",
    "t = .5\n",
    "q = 0.0\n",
    "\n",
    "\n",
    "\n",
    "\n",
    "delta = bsmCallDelta(S, K, v, r, t, q)\n",
    "delta2 = bsmCallDelta(S, K2, v, r, t, q)\n",
    "print(f\"a.) Delta of bull spread is equal to {delta - delta2 : 0.4f}\")\n",
    "\n",
    "gamma = bsmGamma(S, K, v, r, t, q)\n",
    "gamma2 = bsmGamma(S, K2, v, r, t, q)\n",
    "print(f\"a.) Gamma of bull spread is equal to {gamma - gamma2 : 0.4f}\")\n",
    "\n",
    "vega = bsmVega(S, K, v, r, t, q)\n",
    "vega2 = bsmVega(S, K2, v, r, t, q)\n",
    "print(f\"a.) Vega of bull spread is equal to {vega - vega2 : 0.4f}\")\n",
    "\n",
    "theta = bsmCallTheta(S, K, v, r, t, q)\n",
    "print(f\"a.) Theta is equal to {theta : 0.4f}??????????????\")\n",
    "theta2 = bsmCallTheta(S, K2, v, r, t, q)\n",
    "print(f\"a.) Theta is equal to {theta2 : 0.4f}????????????\")\n",
    "print(f\"a.) Theta of bull spread is equal to {theta - theta2 : 0.4f}\")\n",
    "\n",
    "\n",
    "rho = bsmCallRho(S, K, v, r, t, q)\n",
    "rho2 = bsmCallRho(S, K2, v, r, t, q)\n",
    "print(f\"b.) Rho of bull spread is equal to {rho - rho2 : 0.4f}\")"
   ]
  },
  {
   "cell_type": "code",
   "execution_count": 353,
   "metadata": {},
   "outputs": [
    {
     "name": "stdout",
     "output_type": "stream",
     "text": [
      "b.) Delta of bull spread is equal to  0.1864\n",
      "b.) Gamma of bull spread is equal to -0.0109\n",
      "b.) Vega of bull spread is equal to -0.0331\n",
      "a.) Theta of bull spread is equal to  0.0699\n",
      "b.) Rho of bull spread is equal to  0.0267\n"
     ]
    }
   ],
   "source": [
    "S = 45\n",
    "K = 40\n",
    "K2 = 45\n",
    "v = 0.30\n",
    "r = 0.08\n",
    "t = .5\n",
    "q = 0.0\n",
    "\n",
    "\n",
    "\n",
    "\n",
    "delta = bsmCallDelta(S, K, v, r, t, q)\n",
    "delta2 = bsmCallDelta(S, K2, v, r, t, q)\n",
    "print(f\"b.) Delta of bull spread is equal to {delta - delta2 : 0.4f}\")\n",
    "\n",
    "gamma = bsmGamma(S, K, v, r, t, q)\n",
    "gamma2 = bsmGamma(S, K2, v, r, t, q)\n",
    "print(f\"b.) Gamma of bull spread is equal to {gamma - gamma2 : 0.4f}\")\n",
    "\n",
    "vega = bsmVega(S, K, v, r, t, q)\n",
    "vega2 = bsmVega(S, K2, v, r, t, q)\n",
    "print(f\"b.) Vega of bull spread is equal to {vega - vega2 : 0.4f}\")\n",
    "\n",
    "theta = bsmCallTheta(S, K, v, r, t, q)\n",
    "theta2 = bsmCallTheta(S, K2, v, r, t, q)\n",
    "print(f\"a.) Theta of bull spread is equal to {theta - theta2 : 0.4f}\")\n",
    "\n",
    "\n",
    "rho = bsmCallRho(S, K, v, r, t, q)\n",
    "rho2 = bsmCallRho(S, K2, v, r, t, q)\n",
    "print(f\"b.) Rho of bull spread is equal to {rho - rho2 : 0.4f}\")"
   ]
  },
  {
   "cell_type": "code",
   "execution_count": 304,
   "metadata": {},
   "outputs": [
    {
     "name": "stdout",
     "output_type": "stream",
     "text": [
      "c.) Yes my answers to a.) and b.) were different because the second bull spread was more in-the-money for the purchased $40 dollar strike, which will reduce risk.\n"
     ]
    }
   ],
   "source": [
    "print(f\"c.) Yes my answers to a.) and b.) were different because the second bull spread was more in-the-money for the purchased $40 dollar strike, which will reduce risk.\")"
   ]
  },
  {
   "cell_type": "markdown",
   "metadata": {},
   "source": [
    "<br>\n",
    "\n",
    "### Question 8\n",
    "\n",
    "<br>"
   ]
  },
  {
   "cell_type": "code",
   "execution_count": 86,
   "metadata": {},
   "outputs": [],
   "source": [
    "S = 40\n",
    "v = 0.3\n",
    "r = 0.08\n",
    "q = 0\n",
    "shares = 100\n"
   ]
  },
  {
   "cell_type": "code",
   "execution_count": 305,
   "metadata": {},
   "outputs": [
    {
     "name": "stdout",
     "output_type": "stream",
     "text": [
      "Call price:  3.13\n",
      "The Delta of the European call option is:  0.5824\n",
      "Investment required for Delta-hedged portfolio: $ 2308.02\n",
      "Finance charge:  0.5059\n"
     ]
    }
   ],
   "source": [
    "K = 45\n",
    "t = 91/365\n",
    "callPrc = bsmCall(S, K, v, r, t, q)\n",
    "print(f\"Call price: {callPrc: 0.02f}\")\n",
    "callDelta = bsmCallDelta(S, K, v, r, t, q)\n",
    "print(f\"The Delta of the European call option is: {callDelta: 0.04f}\")\n",
    "net_investment = (callDelta * 100 * K) - (callPrc * shares)\n",
    "print (f\"Investment required for Delta-hedged portfolio: ${net_investment: 0.02f}\")\n",
    "FC = net_investment * ((np.exp(r/365))-1)\n",
    "print(f\"Finance charge: {FC: 0.04f}\")"
   ]
  },
  {
   "cell_type": "code",
   "execution_count": 306,
   "metadata": {},
   "outputs": [
    {
     "name": "stdout",
     "output_type": "stream",
     "text": [
      "The overnight profit/loss is : $-107.70, if the stock price tomorrow is $39\n"
     ]
    }
   ],
   "source": [
    "S2 = 39\n",
    "t = 90/365\n",
    "callPrc_2 = bsmCall(S2, K, v, r, t, q)\n",
    "shares_gain = (callDelta * 100) * (S2 - S)\n",
    "written_gain = (callPrc * shares) - (callPrc_2 * shares)\n",
    "overnight_profit = shares_gain + written_gain - FC\n",
    "print(f\"The overnight profit/loss is : ${overnight_profit: 0.02f}, if the stock price tomorrow is $39\")"
   ]
  },
  {
   "cell_type": "code",
   "execution_count": 307,
   "metadata": {},
   "outputs": [
    {
     "name": "stdout",
     "output_type": "stream",
     "text": [
      "The overnight profit is : $-60.26, if the stock price tomorrow is $40.50\n"
     ]
    }
   ],
   "source": [
    "S3 = 40.50\n",
    "callPrc_3 = bsmCall(S3, K, v, r, t, q)\n",
    "shares_gain = (callDelta * 100) * (S3 - S)\n",
    "written_gain = (callPrc * shares) - (callPrc_3 * shares)\n",
    "overnight_profit = shares_gain + written_gain - FC\n",
    "print(f\"The overnight profit is : ${overnight_profit: 0.02f}, if the stock price tomorrow is $40.50\")"
   ]
  },
  {
   "cell_type": "markdown",
   "metadata": {},
   "source": [
    "<br>\n",
    "\n",
    "### Question 9\n",
    "\n",
    "<br>"
   ]
  },
  {
   "cell_type": "code",
   "execution_count": 309,
   "metadata": {},
   "outputs": [
    {
     "name": "stdout",
     "output_type": "stream",
     "text": [
      "Call price:  6.40\n",
      "The Delta of the European call option is:  0.8400\n",
      "Investment required for Delta-hedged portfolio:  2720.0339\n",
      "Finance charge:  0.5962\n"
     ]
    }
   ],
   "source": [
    "K = 40\n",
    "t = 91/365\n",
    "callPrc = bsmCall(S, K, v, r, t, q)\n",
    "print(f\"Call price: {callPrc: 0.02f}\")\n",
    "callDelta = bsmCallDelta(S, K, v, r, t, q)\n",
    "print(f\"The Delta of the European call option is: {callDelta: 0.04f}\")\n",
    "net_investment = (callDelta * 100 * K) - (callPrc * shares)\n",
    "print (f\"Investment required for Delta-hedged portfolio: {net_investment: 0.04f}\")\n",
    "FC = net_investment * ((np.exp(r/365))-1)\n",
    "print(f\"Finance charge: {FC: 0.04f}\")"
   ]
  },
  {
   "cell_type": "code",
   "execution_count": 310,
   "metadata": {},
   "outputs": [
    {
     "name": "stdout",
     "output_type": "stream",
     "text": [
      "The overnight profit/loss is : $-86.16, if the stock price tomorrow is 39\n"
     ]
    }
   ],
   "source": [
    "S2 = 39\n",
    "t = 90/365\n",
    "callPrc_2 = bsmCall(S2, K, v, r, t, q)\n",
    "shares_gain = (callDelta * 100) * (S2 - S)\n",
    "written_gain = (callPrc * shares) - (callPrc_2 * shares)\n",
    "overnight_profit = shares_gain + written_gain - FC\n",
    "print(f\"The overnight profit/loss is : ${overnight_profit: 0.02f}, if the stock price tomorrow is 39\")"
   ]
  },
  {
   "cell_type": "code",
   "execution_count": 311,
   "metadata": {},
   "outputs": [
    {
     "name": "stdout",
     "output_type": "stream",
     "text": [
      "The overnight profit is : $-44.94, if the stock price tomorrow is 39\n"
     ]
    }
   ],
   "source": [
    "S3 = 40.50\n",
    "callPrc_3 = bsmCall(S3, K, v, r, t, q)\n",
    "shares_gain = (callDelta * 100) * (S3 - S)\n",
    "written_gain = (callPrc * shares) - (callPrc_3 * shares)\n",
    "overnight_profit = shares_gain + written_gain - FC\n",
    "print(f\"The overnight profit is : ${overnight_profit: 0.02f}, if the stock price tomorrow is 39\")"
   ]
  },
  {
   "cell_type": "markdown",
   "metadata": {},
   "source": [
    "<br>\n",
    "\n",
    "### Question 10\n",
    "\n",
    "<br>"
   ]
  },
  {
   "cell_type": "code",
   "execution_count": 335,
   "metadata": {},
   "outputs": [
    {
     "name": "stdout",
     "output_type": "stream",
     "text": [
      "Price of bull spread is equal to  1.81\n",
      "Delta of bull spread is equal to  0.3009\n",
      "Investment required for Delta-hedged portfolio: $ 1022.49\n"
     ]
    }
   ],
   "source": [
    "K = 40\n",
    "K2 = 45\n",
    "t = 91/365\n",
    "\n",
    "call = bsmCall(S, K, v, r, t, q)\n",
    "call2 = bsmCall(S, K2, v, r, t, q)\n",
    "bullPrice = call - call2\n",
    "print(f\"Price of bull spread is equal to {bullPrice : 0.2f}\")\n",
    "\n",
    "delta = bsmCallDelta(S, K, v, r, t, q)\n",
    "delta2 = bsmCallDelta(S, K2, v, r, t, q)\n",
    "bullDelta = delta - delta2\n",
    "print(f\"Delta of bull spread is equal to {bullDelta: 0.4f}\")\n",
    "\n",
    "net_investment = (bullDelta * 100 * K) - (bullPrice * shares)\n",
    "print (f\"Investment required for Delta-hedged portfolio: ${net_investment: 0.02f}\")\n",
    "\n",
    "FC = net_investment * ((np.exp(r/365))-1)\n",
    "shares_gain = (bullDelta * 100) * (S2 - S)\n",
    "written_gain = (callPrc * shares) - (callPrc_2 * shares)\n"
   ]
  },
  {
   "cell_type": "code",
   "execution_count": 336,
   "metadata": {},
   "outputs": [
    {
     "name": "stdout",
     "output_type": "stream",
     "text": [
      "The overnight profit/loss is : $-70.81, if the stock price tomorrow is 39\n"
     ]
    }
   ],
   "source": [
    "S2 = 39\n",
    "t = 90/365\n",
    "callPrc_2 = bsmCall(S2, K, v, r, t, q)\n",
    "shares_gain = (bullDelta * 100) * (S2 - S)\n",
    "written_gain = (bullPrice * shares) - (callPrc_2 * shares)\n",
    "overnight_profit = shares_gain + written_gain - FC\n",
    "print(f\"The overnight profit/loss is : ${overnight_profit: 0.02f}, if the stock price tomorrow is $39.\")"
   ]
  },
  {
   "cell_type": "code",
   "execution_count": 340,
   "metadata": {},
   "outputs": [
    {
     "name": "stdout",
     "output_type": "stream",
     "text": [
      "The overnight profit/loss is : $-25.68, if the stock price tomorrow is $39.\n"
     ]
    }
   ],
   "source": [
    "S3 = 40.50\n",
    "t = 90/365\n",
    "callPrc_3 = bsmCall(S2, K, v, r, t, q)\n",
    "shares_gain = (bullDelta * 100) * (S3 - S)\n",
    "written_gain = (bullPrice * shares) - (callPrc_3 * shares)\n",
    "overnight_profit = shares_gain + written_gain - FC\n",
    "print(f\"The overnight profit/loss is : ${overnight_profit: 0.02f}, if the stock price tomorrow is $39.\")"
   ]
  }
 ],
 "metadata": {
  "kernelspec": {
   "display_name": "Python 3",
   "language": "python",
   "name": "python3"
  },
  "language_info": {
   "codemirror_mode": {
    "name": "ipython",
    "version": 3
   },
   "file_extension": ".py",
   "mimetype": "text/x-python",
   "name": "python",
   "nbconvert_exporter": "python",
   "pygments_lexer": "ipython3",
   "version": "3.8.3"
  }
 },
 "nbformat": 4,
 "nbformat_minor": 4
}
